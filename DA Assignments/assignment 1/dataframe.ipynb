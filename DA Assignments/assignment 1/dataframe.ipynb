{
 "cells": [
  {
   "cell_type": "code",
   "execution_count": 1,
   "id": "020302d4-e607-49e2-a959-0fd4a9df03cb",
   "metadata": {},
   "outputs": [],
   "source": [
    "#creating dataframes using different methods\n",
    "import pandas as pd\n",
    "\n",
    "data= {\n",
    "    \"Name\": [\"Aarav\",\"Isha\",\"Vivaan\",\"Priya\",\"Reyansh\"],\n",
    "    \"Age\": [20,21,22,23,24],\n",
    "    \"Grade\": [\"A\",\"B\",\"A\",\"C\",\"B\"],\n",
    "    \"City\": [\"Delhi\",\"Mumbai\",\"Banglore\",\"Chennai\",\"Hyderabad\"]\n",
    "}"
   ]
  },
  {
   "cell_type": "code",
   "execution_count": 2,
   "id": "365e16f8-55d6-41ac-ae2e-691eea7b415c",
   "metadata": {},
   "outputs": [
    {
     "data": {
      "text/plain": [
       "{'Name': ['Aarav', 'Isha', 'Vivaan', 'Priya', 'Reyansh'],\n",
       " 'Age': [20, 21, 22, 23, 24],\n",
       " 'Grade': ['A', 'B', 'A', 'C', 'B'],\n",
       " 'City': ['Delhi', 'Mumbai', 'Banglore', 'Chennai', 'Hyderabad']}"
      ]
     },
     "execution_count": 2,
     "metadata": {},
     "output_type": "execute_result"
    }
   ],
   "source": [
    "data"
   ]
  },
  {
   "cell_type": "code",
   "execution_count": 3,
   "id": "ce43e036-9d9e-4afc-9c70-25c41d6c2b37",
   "metadata": {},
   "outputs": [],
   "source": [
    "df= pd.DataFrame(data)"
   ]
  },
  {
   "cell_type": "code",
   "execution_count": 4,
   "id": "b0dea95b-3e47-405a-9059-5eac4a003468",
   "metadata": {},
   "outputs": [
    {
     "data": {
      "text/html": [
       "<div>\n",
       "<style scoped>\n",
       "    .dataframe tbody tr th:only-of-type {\n",
       "        vertical-align: middle;\n",
       "    }\n",
       "\n",
       "    .dataframe tbody tr th {\n",
       "        vertical-align: top;\n",
       "    }\n",
       "\n",
       "    .dataframe thead th {\n",
       "        text-align: right;\n",
       "    }\n",
       "</style>\n",
       "<table border=\"1\" class=\"dataframe\">\n",
       "  <thead>\n",
       "    <tr style=\"text-align: right;\">\n",
       "      <th></th>\n",
       "      <th>Name</th>\n",
       "      <th>Age</th>\n",
       "      <th>Grade</th>\n",
       "      <th>City</th>\n",
       "    </tr>\n",
       "  </thead>\n",
       "  <tbody>\n",
       "    <tr>\n",
       "      <th>0</th>\n",
       "      <td>Aarav</td>\n",
       "      <td>20</td>\n",
       "      <td>A</td>\n",
       "      <td>Delhi</td>\n",
       "    </tr>\n",
       "    <tr>\n",
       "      <th>1</th>\n",
       "      <td>Isha</td>\n",
       "      <td>21</td>\n",
       "      <td>B</td>\n",
       "      <td>Mumbai</td>\n",
       "    </tr>\n",
       "    <tr>\n",
       "      <th>2</th>\n",
       "      <td>Vivaan</td>\n",
       "      <td>22</td>\n",
       "      <td>A</td>\n",
       "      <td>Banglore</td>\n",
       "    </tr>\n",
       "    <tr>\n",
       "      <th>3</th>\n",
       "      <td>Priya</td>\n",
       "      <td>23</td>\n",
       "      <td>C</td>\n",
       "      <td>Chennai</td>\n",
       "    </tr>\n",
       "    <tr>\n",
       "      <th>4</th>\n",
       "      <td>Reyansh</td>\n",
       "      <td>24</td>\n",
       "      <td>B</td>\n",
       "      <td>Hyderabad</td>\n",
       "    </tr>\n",
       "  </tbody>\n",
       "</table>\n",
       "</div>"
      ],
      "text/plain": [
       "      Name  Age Grade       City\n",
       "0    Aarav   20     A      Delhi\n",
       "1     Isha   21     B     Mumbai\n",
       "2   Vivaan   22     A   Banglore\n",
       "3    Priya   23     C    Chennai\n",
       "4  Reyansh   24     B  Hyderabad"
      ]
     },
     "execution_count": 4,
     "metadata": {},
     "output_type": "execute_result"
    }
   ],
   "source": [
    "df"
   ]
  },
  {
   "cell_type": "code",
   "execution_count": 5,
   "id": "1bfaa12b-cc53-4348-b6b8-e54f8ad26feb",
   "metadata": {},
   "outputs": [],
   "source": [
    "#creating manually\n",
    "\n",
    "names =  [\"Aarav\",\"Isha\",\"Vivaan\",\"Priya\",\"Reyansh\"]\n",
    "ages = [20,21,22,23,24]\n",
    "grades = [\"A\",\"B\",\"A\",\"C\",\"B\"]\n",
    "cities = [\"Delhi\",\"Mumbai\",\"Banglore\",\"Chennai\",\"Hyderabad\"]"
   ]
  },
  {
   "cell_type": "code",
   "execution_count": 6,
   "id": "23e7b170-f2cf-4e57-a88d-d7b0cb16db9b",
   "metadata": {},
   "outputs": [
    {
     "data": {
      "text/plain": [
       "['Aarav', 'Isha', 'Vivaan', 'Priya', 'Reyansh']"
      ]
     },
     "execution_count": 6,
     "metadata": {},
     "output_type": "execute_result"
    }
   ],
   "source": [
    "names"
   ]
  },
  {
   "cell_type": "code",
   "execution_count": 7,
   "id": "48bbed97-1f32-4de3-ace6-17e8220314e8",
   "metadata": {},
   "outputs": [],
   "source": [
    "df = pd.DataFrame(list(zip(names, ages, grades, cities)), columns= [\"Name\",\"Age\",\"Grade\",\"City\"])"
   ]
  },
  {
   "cell_type": "code",
   "execution_count": 8,
   "id": "a4565e15-a32d-4ac4-8d0f-11eb5b0d1223",
   "metadata": {},
   "outputs": [
    {
     "data": {
      "text/html": [
       "<div>\n",
       "<style scoped>\n",
       "    .dataframe tbody tr th:only-of-type {\n",
       "        vertical-align: middle;\n",
       "    }\n",
       "\n",
       "    .dataframe tbody tr th {\n",
       "        vertical-align: top;\n",
       "    }\n",
       "\n",
       "    .dataframe thead th {\n",
       "        text-align: right;\n",
       "    }\n",
       "</style>\n",
       "<table border=\"1\" class=\"dataframe\">\n",
       "  <thead>\n",
       "    <tr style=\"text-align: right;\">\n",
       "      <th></th>\n",
       "      <th>Name</th>\n",
       "      <th>Age</th>\n",
       "      <th>Grade</th>\n",
       "      <th>City</th>\n",
       "    </tr>\n",
       "  </thead>\n",
       "  <tbody>\n",
       "    <tr>\n",
       "      <th>0</th>\n",
       "      <td>Aarav</td>\n",
       "      <td>20</td>\n",
       "      <td>A</td>\n",
       "      <td>Delhi</td>\n",
       "    </tr>\n",
       "    <tr>\n",
       "      <th>1</th>\n",
       "      <td>Isha</td>\n",
       "      <td>21</td>\n",
       "      <td>B</td>\n",
       "      <td>Mumbai</td>\n",
       "    </tr>\n",
       "    <tr>\n",
       "      <th>2</th>\n",
       "      <td>Vivaan</td>\n",
       "      <td>22</td>\n",
       "      <td>A</td>\n",
       "      <td>Banglore</td>\n",
       "    </tr>\n",
       "    <tr>\n",
       "      <th>3</th>\n",
       "      <td>Priya</td>\n",
       "      <td>23</td>\n",
       "      <td>C</td>\n",
       "      <td>Chennai</td>\n",
       "    </tr>\n",
       "    <tr>\n",
       "      <th>4</th>\n",
       "      <td>Reyansh</td>\n",
       "      <td>24</td>\n",
       "      <td>B</td>\n",
       "      <td>Hyderabad</td>\n",
       "    </tr>\n",
       "  </tbody>\n",
       "</table>\n",
       "</div>"
      ],
      "text/plain": [
       "      Name  Age Grade       City\n",
       "0    Aarav   20     A      Delhi\n",
       "1     Isha   21     B     Mumbai\n",
       "2   Vivaan   22     A   Banglore\n",
       "3    Priya   23     C    Chennai\n",
       "4  Reyansh   24     B  Hyderabad"
      ]
     },
     "execution_count": 8,
     "metadata": {},
     "output_type": "execute_result"
    }
   ],
   "source": [
    "df"
   ]
  },
  {
   "cell_type": "code",
   "execution_count": 9,
   "id": "db50781b-871d-40c4-a469-8007362b4230",
   "metadata": {},
   "outputs": [],
   "source": [
    "#using numpy array method\n",
    "import numpy as np\n",
    "\n",
    "names = np.array([\"Aarav\",\"Isha\",\"Vivaan\",\"Priya\",\"Reyansh\"])\n",
    "ages = np.array([20,21,22,23,24])\n",
    "grades = np.array([\"A\",\"B\",\"A\",\"C\",\"B\"])\n",
    "cities = np.array([\"Delhi\",\"Mumbai\",\"Banglore\",\"Chennai\",\"Hyderabad\"])"
   ]
  },
  {
   "cell_type": "code",
   "execution_count": 10,
   "id": "98daca1d-81fc-4511-82a7-e48b2ff5be64",
   "metadata": {},
   "outputs": [],
   "source": [
    "df= pd.DataFrame({\n",
    "    \"Name\": names,\n",
    "    \"Age\" : ages,\n",
    "    \"Grade\" : grades,\n",
    "    \"City\" : cities\n",
    "})"
   ]
  },
  {
   "cell_type": "code",
   "execution_count": 11,
   "id": "6f7a0e29-95f7-4d34-881e-27f0e434c41f",
   "metadata": {},
   "outputs": [
    {
     "data": {
      "text/html": [
       "<div>\n",
       "<style scoped>\n",
       "    .dataframe tbody tr th:only-of-type {\n",
       "        vertical-align: middle;\n",
       "    }\n",
       "\n",
       "    .dataframe tbody tr th {\n",
       "        vertical-align: top;\n",
       "    }\n",
       "\n",
       "    .dataframe thead th {\n",
       "        text-align: right;\n",
       "    }\n",
       "</style>\n",
       "<table border=\"1\" class=\"dataframe\">\n",
       "  <thead>\n",
       "    <tr style=\"text-align: right;\">\n",
       "      <th></th>\n",
       "      <th>Name</th>\n",
       "      <th>Age</th>\n",
       "      <th>Grade</th>\n",
       "      <th>City</th>\n",
       "    </tr>\n",
       "  </thead>\n",
       "  <tbody>\n",
       "    <tr>\n",
       "      <th>0</th>\n",
       "      <td>Aarav</td>\n",
       "      <td>20</td>\n",
       "      <td>A</td>\n",
       "      <td>Delhi</td>\n",
       "    </tr>\n",
       "    <tr>\n",
       "      <th>1</th>\n",
       "      <td>Isha</td>\n",
       "      <td>21</td>\n",
       "      <td>B</td>\n",
       "      <td>Mumbai</td>\n",
       "    </tr>\n",
       "    <tr>\n",
       "      <th>2</th>\n",
       "      <td>Vivaan</td>\n",
       "      <td>22</td>\n",
       "      <td>A</td>\n",
       "      <td>Banglore</td>\n",
       "    </tr>\n",
       "    <tr>\n",
       "      <th>3</th>\n",
       "      <td>Priya</td>\n",
       "      <td>23</td>\n",
       "      <td>C</td>\n",
       "      <td>Chennai</td>\n",
       "    </tr>\n",
       "    <tr>\n",
       "      <th>4</th>\n",
       "      <td>Reyansh</td>\n",
       "      <td>24</td>\n",
       "      <td>B</td>\n",
       "      <td>Hyderabad</td>\n",
       "    </tr>\n",
       "  </tbody>\n",
       "</table>\n",
       "</div>"
      ],
      "text/plain": [
       "      Name  Age Grade       City\n",
       "0    Aarav   20     A      Delhi\n",
       "1     Isha   21     B     Mumbai\n",
       "2   Vivaan   22     A   Banglore\n",
       "3    Priya   23     C    Chennai\n",
       "4  Reyansh   24     B  Hyderabad"
      ]
     },
     "execution_count": 11,
     "metadata": {},
     "output_type": "execute_result"
    }
   ],
   "source": [
    "df"
   ]
  },
  {
   "cell_type": "code",
   "execution_count": 12,
   "id": "64264e5b-c95b-4f63-acef-bd1d076fb3cb",
   "metadata": {},
   "outputs": [
    {
     "data": {
      "text/html": [
       "<div>\n",
       "<style scoped>\n",
       "    .dataframe tbody tr th:only-of-type {\n",
       "        vertical-align: middle;\n",
       "    }\n",
       "\n",
       "    .dataframe tbody tr th {\n",
       "        vertical-align: top;\n",
       "    }\n",
       "\n",
       "    .dataframe thead th {\n",
       "        text-align: right;\n",
       "    }\n",
       "</style>\n",
       "<table border=\"1\" class=\"dataframe\">\n",
       "  <thead>\n",
       "    <tr style=\"text-align: right;\">\n",
       "      <th></th>\n",
       "      <th>Name</th>\n",
       "      <th>Age</th>\n",
       "      <th>Grade</th>\n",
       "      <th>City</th>\n",
       "    </tr>\n",
       "  </thead>\n",
       "  <tbody>\n",
       "    <tr>\n",
       "      <th>0</th>\n",
       "      <td>Aarav</td>\n",
       "      <td>20</td>\n",
       "      <td>A</td>\n",
       "      <td>Delhi</td>\n",
       "    </tr>\n",
       "    <tr>\n",
       "      <th>1</th>\n",
       "      <td>Isha</td>\n",
       "      <td>21</td>\n",
       "      <td>B</td>\n",
       "      <td>Mumbai</td>\n",
       "    </tr>\n",
       "    <tr>\n",
       "      <th>2</th>\n",
       "      <td>Vivaan</td>\n",
       "      <td>22</td>\n",
       "      <td>A</td>\n",
       "      <td>Banglore</td>\n",
       "    </tr>\n",
       "    <tr>\n",
       "      <th>3</th>\n",
       "      <td>Priya</td>\n",
       "      <td>23</td>\n",
       "      <td>C</td>\n",
       "      <td>Chennai</td>\n",
       "    </tr>\n",
       "    <tr>\n",
       "      <th>4</th>\n",
       "      <td>Reyansh</td>\n",
       "      <td>24</td>\n",
       "      <td>B</td>\n",
       "      <td>Hyderabad</td>\n",
       "    </tr>\n",
       "  </tbody>\n",
       "</table>\n",
       "</div>"
      ],
      "text/plain": [
       "      Name  Age Grade       City\n",
       "0    Aarav   20     A      Delhi\n",
       "1     Isha   21     B     Mumbai\n",
       "2   Vivaan   22     A   Banglore\n",
       "3    Priya   23     C    Chennai\n",
       "4  Reyansh   24     B  Hyderabad"
      ]
     },
     "execution_count": 12,
     "metadata": {},
     "output_type": "execute_result"
    }
   ],
   "source": [
    "#using dictionary\n",
    "data= {\n",
    "    \"Name\": [\"Aarav\",\"Isha\",\"Vivaan\",\"Priya\",\"Reyansh\"],\n",
    "    \"Age\": [20,21,22,23,24],\n",
    "    \"Grade\": [\"A\",\"B\",\"A\",\"C\",\"B\"],\n",
    "    \"City\": [\"Delhi\",\"Mumbai\",\"Banglore\",\"Chennai\",\"Hyderabad\"]\n",
    "}\n",
    "\n",
    "df= pd.DataFrame.from_dict(data)\n",
    "df"
   ]
  },
  {
   "cell_type": "code",
   "execution_count": 13,
   "id": "56dd2dd8-ffae-43cd-a0ce-d6312c0dddc0",
   "metadata": {},
   "outputs": [
    {
     "data": {
      "text/html": [
       "<div>\n",
       "<style scoped>\n",
       "    .dataframe tbody tr th:only-of-type {\n",
       "        vertical-align: middle;\n",
       "    }\n",
       "\n",
       "    .dataframe tbody tr th {\n",
       "        vertical-align: top;\n",
       "    }\n",
       "\n",
       "    .dataframe thead th {\n",
       "        text-align: right;\n",
       "    }\n",
       "</style>\n",
       "<table border=\"1\" class=\"dataframe\">\n",
       "  <thead>\n",
       "    <tr style=\"text-align: right;\">\n",
       "      <th></th>\n",
       "      <th>Name</th>\n",
       "      <th>Age</th>\n",
       "      <th>Grade</th>\n",
       "      <th>City</th>\n",
       "    </tr>\n",
       "  </thead>\n",
       "  <tbody>\n",
       "    <tr>\n",
       "      <th>0</th>\n",
       "      <td>Aarav</td>\n",
       "      <td>20</td>\n",
       "      <td>A</td>\n",
       "      <td>Delhi</td>\n",
       "    </tr>\n",
       "    <tr>\n",
       "      <th>1</th>\n",
       "      <td>Isha</td>\n",
       "      <td>21</td>\n",
       "      <td>B</td>\n",
       "      <td>Mumbai</td>\n",
       "    </tr>\n",
       "    <tr>\n",
       "      <th>2</th>\n",
       "      <td>Vivaan</td>\n",
       "      <td>22</td>\n",
       "      <td>A</td>\n",
       "      <td>Bangalore</td>\n",
       "    </tr>\n",
       "    <tr>\n",
       "      <th>3</th>\n",
       "      <td>Priya</td>\n",
       "      <td>23</td>\n",
       "      <td>C</td>\n",
       "      <td>Chennai</td>\n",
       "    </tr>\n",
       "    <tr>\n",
       "      <th>4</th>\n",
       "      <td>Reyansh</td>\n",
       "      <td>24</td>\n",
       "      <td>B</td>\n",
       "      <td>Hyderabad</td>\n",
       "    </tr>\n",
       "  </tbody>\n",
       "</table>\n",
       "</div>"
      ],
      "text/plain": [
       "      Name  Age Grade       City\n",
       "0    Aarav   20     A      Delhi\n",
       "1     Isha   21     B     Mumbai\n",
       "2   Vivaan   22     A  Bangalore\n",
       "3    Priya   23     C    Chennai\n",
       "4  Reyansh   24     B  Hyderabad"
      ]
     },
     "execution_count": 13,
     "metadata": {},
     "output_type": "execute_result"
    }
   ],
   "source": [
    "#using list of dictionaries\n",
    "data = [\n",
    "    {\"Name\":\"Aarav\",\"Age\":20,\"Grade\":\"A\",\"City\":\"Delhi\"},\n",
    "    {\"Name\":\"Isha\",\"Age\":21,\"Grade\":\"B\",\"City\":\"Mumbai\"},\n",
    "    {\"Name\":\"Vivaan\",\"Age\":22,\"Grade\":\"A\",\"City\":\"Bangalore\"},\n",
    "    {\"Name\":\"Priya\",\"Age\":23,\"Grade\":\"C\",\"City\":\"Chennai\"},\n",
    "    {\"Name\":\"Reyansh\",\"Age\":24,\"Grade\":\"B\",\"City\":\"Hyderabad\"}\n",
    "]\n",
    "\n",
    "df = pd.DataFrame(data)\n",
    "df"
   ]
  },
  {
   "cell_type": "code",
   "execution_count": 19,
   "id": "3854abeb-c0c7-4dd7-9dbb-25ac4bc335c1",
   "metadata": {},
   "outputs": [],
   "source": [
    "rows,columns=df.shape"
   ]
  },
  {
   "cell_type": "code",
   "execution_count": 20,
   "id": "9a58867e-faae-48a2-b702-05801fa34124",
   "metadata": {},
   "outputs": [
    {
     "data": {
      "text/plain": [
       "5"
      ]
     },
     "execution_count": 20,
     "metadata": {},
     "output_type": "execute_result"
    }
   ],
   "source": [
    "rows"
   ]
  },
  {
   "cell_type": "code",
   "execution_count": 21,
   "id": "4d3942e9-6f40-431f-a7e9-11668f7ce1ec",
   "metadata": {},
   "outputs": [
    {
     "data": {
      "text/html": [
       "<div>\n",
       "<style scoped>\n",
       "    .dataframe tbody tr th:only-of-type {\n",
       "        vertical-align: middle;\n",
       "    }\n",
       "\n",
       "    .dataframe tbody tr th {\n",
       "        vertical-align: top;\n",
       "    }\n",
       "\n",
       "    .dataframe thead th {\n",
       "        text-align: right;\n",
       "    }\n",
       "</style>\n",
       "<table border=\"1\" class=\"dataframe\">\n",
       "  <thead>\n",
       "    <tr style=\"text-align: right;\">\n",
       "      <th></th>\n",
       "      <th>Name</th>\n",
       "      <th>Age</th>\n",
       "    </tr>\n",
       "  </thead>\n",
       "  <tbody>\n",
       "    <tr>\n",
       "      <th>0</th>\n",
       "      <td>Aarav</td>\n",
       "      <td>20</td>\n",
       "    </tr>\n",
       "    <tr>\n",
       "      <th>2</th>\n",
       "      <td>Vivaan</td>\n",
       "      <td>22</td>\n",
       "    </tr>\n",
       "  </tbody>\n",
       "</table>\n",
       "</div>"
      ],
      "text/plain": [
       "     Name  Age\n",
       "0   Aarav   20\n",
       "2  Vivaan   22"
      ]
     },
     "execution_count": 21,
     "metadata": {},
     "output_type": "execute_result"
    }
   ],
   "source": [
    "df[[\"Name\",\"Age\"]][df[\"Grade\"]==\"A\"]"
   ]
  },
  {
   "cell_type": "code",
   "execution_count": 22,
   "id": "0870176f-fb39-4ba7-b2fd-4ccd54c86d73",
   "metadata": {},
   "outputs": [
    {
     "data": {
      "text/html": [
       "<div>\n",
       "<style scoped>\n",
       "    .dataframe tbody tr th:only-of-type {\n",
       "        vertical-align: middle;\n",
       "    }\n",
       "\n",
       "    .dataframe tbody tr th {\n",
       "        vertical-align: top;\n",
       "    }\n",
       "\n",
       "    .dataframe thead th {\n",
       "        text-align: right;\n",
       "    }\n",
       "</style>\n",
       "<table border=\"1\" class=\"dataframe\">\n",
       "  <thead>\n",
       "    <tr style=\"text-align: right;\">\n",
       "      <th></th>\n",
       "      <th>Name</th>\n",
       "      <th>Age</th>\n",
       "    </tr>\n",
       "  </thead>\n",
       "  <tbody>\n",
       "    <tr>\n",
       "      <th>4</th>\n",
       "      <td>Reyansh</td>\n",
       "      <td>24</td>\n",
       "    </tr>\n",
       "  </tbody>\n",
       "</table>\n",
       "</div>"
      ],
      "text/plain": [
       "      Name  Age\n",
       "4  Reyansh   24"
      ]
     },
     "execution_count": 22,
     "metadata": {},
     "output_type": "execute_result"
    }
   ],
   "source": [
    "df[[\"Name\",\"Age\"]][df[\"Age\"]==df[\"Age\"].max()]"
   ]
  },
  {
   "cell_type": "code",
   "execution_count": 24,
   "id": "effe54b5-ad43-4153-bc2f-5e008192702d",
   "metadata": {},
   "outputs": [
    {
     "data": {
      "text/html": [
       "<div>\n",
       "<style scoped>\n",
       "    .dataframe tbody tr th:only-of-type {\n",
       "        vertical-align: middle;\n",
       "    }\n",
       "\n",
       "    .dataframe tbody tr th {\n",
       "        vertical-align: top;\n",
       "    }\n",
       "\n",
       "    .dataframe thead th {\n",
       "        text-align: right;\n",
       "    }\n",
       "</style>\n",
       "<table border=\"1\" class=\"dataframe\">\n",
       "  <thead>\n",
       "    <tr style=\"text-align: right;\">\n",
       "      <th></th>\n",
       "      <th>Name</th>\n",
       "      <th>Age</th>\n",
       "      <th>Grade</th>\n",
       "      <th>City</th>\n",
       "    </tr>\n",
       "  </thead>\n",
       "  <tbody>\n",
       "    <tr>\n",
       "      <th>0</th>\n",
       "      <td>Aarav</td>\n",
       "      <td>20</td>\n",
       "      <td>A</td>\n",
       "      <td>Delhi</td>\n",
       "    </tr>\n",
       "    <tr>\n",
       "      <th>1</th>\n",
       "      <td>Isha</td>\n",
       "      <td>21</td>\n",
       "      <td>B</td>\n",
       "      <td>Mumbai</td>\n",
       "    </tr>\n",
       "    <tr>\n",
       "      <th>2</th>\n",
       "      <td>Vivaan</td>\n",
       "      <td>22</td>\n",
       "      <td>A</td>\n",
       "      <td>Bangalore</td>\n",
       "    </tr>\n",
       "    <tr>\n",
       "      <th>3</th>\n",
       "      <td>Priya</td>\n",
       "      <td>23</td>\n",
       "      <td>C</td>\n",
       "      <td>Chennai</td>\n",
       "    </tr>\n",
       "    <tr>\n",
       "      <th>4</th>\n",
       "      <td>Reyansh</td>\n",
       "      <td>24</td>\n",
       "      <td>B</td>\n",
       "      <td>Hyderabad</td>\n",
       "    </tr>\n",
       "  </tbody>\n",
       "</table>\n",
       "</div>"
      ],
      "text/plain": [
       "      Name  Age Grade       City\n",
       "0    Aarav   20     A      Delhi\n",
       "1     Isha   21     B     Mumbai\n",
       "2   Vivaan   22     A  Bangalore\n",
       "3    Priya   23     C    Chennai\n",
       "4  Reyansh   24     B  Hyderabad"
      ]
     },
     "execution_count": 24,
     "metadata": {},
     "output_type": "execute_result"
    }
   ],
   "source": [
    "df"
   ]
  },
  {
   "cell_type": "code",
   "execution_count": 25,
   "id": "8147f162-ce3b-4990-bd9b-012fdb1c74e5",
   "metadata": {},
   "outputs": [],
   "source": [
    "df.set_index(\"Name\", inplace=True)"
   ]
  },
  {
   "cell_type": "code",
   "execution_count": 26,
   "id": "2b6379fd-d59b-4573-a1b0-9616cae2c4ff",
   "metadata": {},
   "outputs": [
    {
     "data": {
      "text/html": [
       "<div>\n",
       "<style scoped>\n",
       "    .dataframe tbody tr th:only-of-type {\n",
       "        vertical-align: middle;\n",
       "    }\n",
       "\n",
       "    .dataframe tbody tr th {\n",
       "        vertical-align: top;\n",
       "    }\n",
       "\n",
       "    .dataframe thead th {\n",
       "        text-align: right;\n",
       "    }\n",
       "</style>\n",
       "<table border=\"1\" class=\"dataframe\">\n",
       "  <thead>\n",
       "    <tr style=\"text-align: right;\">\n",
       "      <th></th>\n",
       "      <th>Age</th>\n",
       "      <th>Grade</th>\n",
       "      <th>City</th>\n",
       "    </tr>\n",
       "    <tr>\n",
       "      <th>Name</th>\n",
       "      <th></th>\n",
       "      <th></th>\n",
       "      <th></th>\n",
       "    </tr>\n",
       "  </thead>\n",
       "  <tbody>\n",
       "    <tr>\n",
       "      <th>Aarav</th>\n",
       "      <td>20</td>\n",
       "      <td>A</td>\n",
       "      <td>Delhi</td>\n",
       "    </tr>\n",
       "    <tr>\n",
       "      <th>Isha</th>\n",
       "      <td>21</td>\n",
       "      <td>B</td>\n",
       "      <td>Mumbai</td>\n",
       "    </tr>\n",
       "    <tr>\n",
       "      <th>Vivaan</th>\n",
       "      <td>22</td>\n",
       "      <td>A</td>\n",
       "      <td>Bangalore</td>\n",
       "    </tr>\n",
       "    <tr>\n",
       "      <th>Priya</th>\n",
       "      <td>23</td>\n",
       "      <td>C</td>\n",
       "      <td>Chennai</td>\n",
       "    </tr>\n",
       "    <tr>\n",
       "      <th>Reyansh</th>\n",
       "      <td>24</td>\n",
       "      <td>B</td>\n",
       "      <td>Hyderabad</td>\n",
       "    </tr>\n",
       "  </tbody>\n",
       "</table>\n",
       "</div>"
      ],
      "text/plain": [
       "         Age Grade       City\n",
       "Name                         \n",
       "Aarav     20     A      Delhi\n",
       "Isha      21     B     Mumbai\n",
       "Vivaan    22     A  Bangalore\n",
       "Priya     23     C    Chennai\n",
       "Reyansh   24     B  Hyderabad"
      ]
     },
     "execution_count": 26,
     "metadata": {},
     "output_type": "execute_result"
    }
   ],
   "source": [
    "df"
   ]
  },
  {
   "cell_type": "code",
   "execution_count": 27,
   "id": "032a3e3e-0c3e-4cf3-99e9-97442d3e8c5d",
   "metadata": {},
   "outputs": [
    {
     "data": {
      "text/html": [
       "<div>\n",
       "<style scoped>\n",
       "    .dataframe tbody tr th:only-of-type {\n",
       "        vertical-align: middle;\n",
       "    }\n",
       "\n",
       "    .dataframe tbody tr th {\n",
       "        vertical-align: top;\n",
       "    }\n",
       "\n",
       "    .dataframe thead th {\n",
       "        text-align: right;\n",
       "    }\n",
       "</style>\n",
       "<table border=\"1\" class=\"dataframe\">\n",
       "  <thead>\n",
       "    <tr style=\"text-align: right;\">\n",
       "      <th></th>\n",
       "      <th>Name</th>\n",
       "      <th>Age</th>\n",
       "      <th>Grade</th>\n",
       "      <th>City</th>\n",
       "    </tr>\n",
       "  </thead>\n",
       "  <tbody>\n",
       "    <tr>\n",
       "      <th>0</th>\n",
       "      <td>Aarav</td>\n",
       "      <td>20</td>\n",
       "      <td>A</td>\n",
       "      <td>Delhi</td>\n",
       "    </tr>\n",
       "    <tr>\n",
       "      <th>1</th>\n",
       "      <td>Isha</td>\n",
       "      <td>21</td>\n",
       "      <td>B</td>\n",
       "      <td>Mumbai</td>\n",
       "    </tr>\n",
       "    <tr>\n",
       "      <th>2</th>\n",
       "      <td>Vivaan</td>\n",
       "      <td>22</td>\n",
       "      <td>A</td>\n",
       "      <td>Bangalore</td>\n",
       "    </tr>\n",
       "    <tr>\n",
       "      <th>3</th>\n",
       "      <td>Priya</td>\n",
       "      <td>23</td>\n",
       "      <td>C</td>\n",
       "      <td>Chennai</td>\n",
       "    </tr>\n",
       "    <tr>\n",
       "      <th>4</th>\n",
       "      <td>Reyansh</td>\n",
       "      <td>24</td>\n",
       "      <td>B</td>\n",
       "      <td>Hyderabad</td>\n",
       "    </tr>\n",
       "  </tbody>\n",
       "</table>\n",
       "</div>"
      ],
      "text/plain": [
       "      Name  Age Grade       City\n",
       "0    Aarav   20     A      Delhi\n",
       "1     Isha   21     B     Mumbai\n",
       "2   Vivaan   22     A  Bangalore\n",
       "3    Priya   23     C    Chennai\n",
       "4  Reyansh   24     B  Hyderabad"
      ]
     },
     "execution_count": 27,
     "metadata": {},
     "output_type": "execute_result"
    }
   ],
   "source": [
    "df.reset_index()"
   ]
  },
  {
   "cell_type": "code",
   "execution_count": null,
   "id": "1585c526-9749-4361-bcad-ba5e1608a399",
   "metadata": {},
   "outputs": [],
   "source": []
  }
 ],
 "metadata": {
  "kernelspec": {
   "display_name": "Python 3 (ipykernel)",
   "language": "python",
   "name": "python3"
  },
  "language_info": {
   "codemirror_mode": {
    "name": "ipython",
    "version": 3
   },
   "file_extension": ".py",
   "mimetype": "text/x-python",
   "name": "python",
   "nbconvert_exporter": "python",
   "pygments_lexer": "ipython3",
   "version": "3.12.7"
  }
 },
 "nbformat": 4,
 "nbformat_minor": 5
}
